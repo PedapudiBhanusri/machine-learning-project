{
 "cells": [
  {
   "cell_type": "markdown",
   "id": "62e0e3cc-1b17-48dd-a87e-d86c4cf52907",
   "metadata": {},
   "source": [
    "# it is big heading"
   ]
  },
  {
   "cell_type": "code",
   "execution_count": 1,
   "id": "b99e7d4a-e1e4-4230-acbd-9235ebd623a9",
   "metadata": {},
   "outputs": [],
   "source": [
    "import numpy as np\n"
   ]
  },
  {
   "cell_type": "code",
   "execution_count": 2,
   "id": "386f9387-a822-49c4-bdb8-ec37820683f9",
   "metadata": {},
   "outputs": [
    {
     "name": "stdout",
     "output_type": "stream",
     "text": [
      "[0, 1, 2, 3, 4, 5, 6, 7, 8, 9]\n"
     ]
    }
   ],
   "source": [
    "list1=list(range(10))\n",
    "print(list1)"
   ]
  },
  {
   "cell_type": "code",
   "execution_count": 3,
   "id": "b4a6b352-c62b-4904-8311-a920f1e37998",
   "metadata": {},
   "outputs": [
    {
     "name": "stdout",
     "output_type": "stream",
     "text": [
      "[0, 1, 2, 3, 4, 5, 6, 7, 8, 9]\n",
      "<class 'list'>\n",
      "<class 'list'>\n"
     ]
    }
   ],
   "source": [
    "list1 = list(range(10))\n",
    "print(list1)\n",
    "print(list)\n",
    "print(type(list1))"
   ]
  },
  {
   "cell_type": "code",
   "execution_count": 4,
   "id": "9ce796f2-8268-4e3f-ad06-6546b6eeabac",
   "metadata": {},
   "outputs": [
    {
     "name": "stdout",
     "output_type": "stream",
     "text": [
      "(0, 1, 2, 3, 4)\n"
     ]
    }
   ],
   "source": [
    "tuple1=tuple(range(5))\n",
    "print(tuple1)"
   ]
  },
  {
   "cell_type": "code",
   "execution_count": 5,
   "id": "a3d033c6-63e3-4707-a3b4-246350cd9ce0",
   "metadata": {},
   "outputs": [
    {
     "name": "stdout",
     "output_type": "stream",
     "text": [
      "[0, 1, 2, 3, 4]\n"
     ]
    }
   ],
   "source": [
    "x=list(tuple1)\n",
    "print(x)"
   ]
  },
  {
   "cell_type": "markdown",
   "id": "fd89cb4a-a465-4886-bc6a-aa58ab8275b3",
   "metadata": {},
   "source": [
    "## creating numpy array using list"
   ]
  },
  {
   "cell_type": "code",
   "execution_count": 6,
   "id": "0b0fe34f-b786-4f64-b40d-583a745cc7fd",
   "metadata": {},
   "outputs": [
    {
     "name": "stdout",
     "output_type": "stream",
     "text": [
      "[10 20 30 40 50]\n",
      "<class 'numpy.ndarray'>\n"
     ]
    }
   ],
   "source": [
    "l1=[10,20,30,40,50]\n",
    "arr=np.array(l1)\n",
    "print(arr)\n",
    "print(type(arr))"
   ]
  },
  {
   "cell_type": "code",
   "execution_count": 7,
   "id": "8507045b-bfdd-489c-9a33-4e4ad919687c",
   "metadata": {},
   "outputs": [
    {
     "name": "stdout",
     "output_type": "stream",
     "text": [
      "[ True  True  True  True  True]\n",
      "<class 'numpy.ndarray'>\n"
     ]
    }
   ],
   "source": [
    "#creating a array using tuple\n",
    "l2=(10,20,30,40,50)\n",
    "arr1=np.array(l2,dtype=bool)\n",
    "print(arr1)\n",
    "print(type(arr))"
   ]
  },
  {
   "cell_type": "markdown",
   "id": "26dc7cb7-d9e0-4eb2-8bd4-56979b30d263",
   "metadata": {},
   "source": [
    "## order of datatypes"
   ]
  },
  {
   "cell_type": "code",
   "execution_count": 8,
   "id": "bc60b570-08c7-4c0c-84c6-2a285e5783cc",
   "metadata": {},
   "outputs": [],
   "source": [
    "## order of datatypes"
   ]
  },
  {
   "cell_type": "code",
   "execution_count": 9,
   "id": "4350d2ea-a072-4a6a-a3e2-f0aa16e5223e",
   "metadata": {},
   "outputs": [
    {
     "name": "stdout",
     "output_type": "stream",
     "text": [
      "['10' '10.5' '(10+3j)' 'True' 'python']\n"
     ]
    }
   ],
   "source": [
    "#datatype preference\n",
    "\n",
    "l2=[10,10.5,10+3j,True,\"python\"]\n",
    "arr3=np.array(l2)\n",
    "print(arr3)"
   ]
  },
  {
   "cell_type": "code",
   "execution_count": 10,
   "id": "890c3fc7-b94b-4495-8c2e-136bc0780daa",
   "metadata": {},
   "outputs": [
    {
     "name": "stdout",
     "output_type": "stream",
     "text": [
      "[10. +0.j 10.5+0.j 10. +3.j  1. +0.j]\n"
     ]
    }
   ],
   "source": [
    "l2=[10,10.5,10+3j,True]\n",
    "arr3=np.array(l2)\n",
    "print(arr3)"
   ]
  },
  {
   "cell_type": "code",
   "execution_count": 11,
   "id": "e9a880ca-c1ed-4ec4-b784-a47ae25175aa",
   "metadata": {},
   "outputs": [
    {
     "name": "stdout",
     "output_type": "stream",
     "text": [
      "[10.  10.5  1. ]\n"
     ]
    }
   ],
   "source": [
    "l2=[10,10.5,True]\n",
    "arr3=np.array(l2)\n",
    "print(arr3)"
   ]
  },
  {
   "cell_type": "code",
   "execution_count": 12,
   "id": "5e9f318e-4d6c-4440-a225-2c47b39a2a29",
   "metadata": {},
   "outputs": [
    {
     "name": "stdout",
     "output_type": "stream",
     "text": [
      "[10  1]\n"
     ]
    }
   ],
   "source": [
    "l2=[10,True]\n",
    "arr3=np.array(l2)\n",
    "print(arr3)"
   ]
  },
  {
   "cell_type": "code",
   "execution_count": 13,
   "id": "3a100012-7fbd-4dda-919c-2ab4d3157636",
   "metadata": {},
   "outputs": [
    {
     "name": "stdout",
     "output_type": "stream",
     "text": [
      "{(10, 20, 30): 'tuple'}\n"
     ]
    }
   ],
   "source": [
    "d1={(10,20,30):\"tuple\"}\n",
    "print(d1)"
   ]
  },
  {
   "cell_type": "code",
   "execution_count": 14,
   "id": "e9042681-f118-4bbf-b698-a4b514d6e471",
   "metadata": {},
   "outputs": [
    {
     "ename": "TypeError",
     "evalue": "unhashable type: 'list'",
     "output_type": "error",
     "traceback": [
      "\u001b[31m---------------------------------------------------------------------------\u001b[39m",
      "\u001b[31mTypeError\u001b[39m                                 Traceback (most recent call last)",
      "\u001b[36mCell\u001b[39m\u001b[36m \u001b[39m\u001b[32mIn[14]\u001b[39m\u001b[32m, line 1\u001b[39m\n\u001b[32m----> \u001b[39m\u001b[32m1\u001b[39m d1={[\u001b[32m10\u001b[39m,\u001b[32m20\u001b[39m,\u001b[32m30\u001b[39m]:\u001b[33m\"\u001b[39m\u001b[33mlist\u001b[39m\u001b[33m\"\u001b[39m}\n\u001b[32m      2\u001b[39m \u001b[38;5;28mprint\u001b[39m(d1)\n",
      "\u001b[31mTypeError\u001b[39m: unhashable type: 'list'"
     ]
    }
   ],
   "source": [
    "d1={[10,20,30]:\"list\"}\n",
    "print(d1)"
   ]
  },
  {
   "cell_type": "code",
   "execution_count": 15,
   "id": "067dfe52-a77c-47d2-adf7-554c6cfa27ae",
   "metadata": {},
   "outputs": [
    {
     "ename": "TypeError",
     "evalue": "unhashable type: 'set'",
     "output_type": "error",
     "traceback": [
      "\u001b[31m---------------------------------------------------------------------------\u001b[39m",
      "\u001b[31mTypeError\u001b[39m                                 Traceback (most recent call last)",
      "\u001b[36mCell\u001b[39m\u001b[36m \u001b[39m\u001b[32mIn[15]\u001b[39m\u001b[32m, line 1\u001b[39m\n\u001b[32m----> \u001b[39m\u001b[32m1\u001b[39m s={\u001b[32m10\u001b[39m,\u001b[32m20\u001b[39m,\u001b[32m30\u001b[39m,{\u001b[32m40\u001b[39m,\u001b[32m50\u001b[39m}}\n\u001b[32m      2\u001b[39m \u001b[38;5;28mprint\u001b[39m(s)\n",
      "\u001b[31mTypeError\u001b[39m: unhashable type: 'set'"
     ]
    }
   ],
   "source": [
    "s={10,20,30,{40,50}}\n",
    "print(s)"
   ]
  },
  {
   "cell_type": "code",
   "execution_count": 16,
   "id": "cb1a57bb-072e-4987-89e8-273159f54ad7",
   "metadata": {},
   "outputs": [
    {
     "name": "stdout",
     "output_type": "stream",
     "text": [
      "[1, 2, 3, 4, 5, 6, 7, 8, 9]\n"
     ]
    }
   ],
   "source": [
    "x=list(range(1,10))\n",
    "print(x)"
   ]
  },
  {
   "cell_type": "code",
   "execution_count": 17,
   "id": "b4228ead-55d0-4606-b07a-e1ae4a11cebe",
   "metadata": {},
   "outputs": [
    {
     "ename": "TypeError",
     "evalue": "'float' object cannot be interpreted as an integer",
     "output_type": "error",
     "traceback": [
      "\u001b[31m---------------------------------------------------------------------------\u001b[39m",
      "\u001b[31mTypeError\u001b[39m                                 Traceback (most recent call last)",
      "\u001b[36mCell\u001b[39m\u001b[36m \u001b[39m\u001b[32mIn[17]\u001b[39m\u001b[32m, line 1\u001b[39m\n\u001b[32m----> \u001b[39m\u001b[32m1\u001b[39m x2=\u001b[38;5;28mlist\u001b[39m(\u001b[38;5;28;43mrange\u001b[39;49m\u001b[43m(\u001b[49m\u001b[32;43m1\u001b[39;49m\u001b[43m,\u001b[49m\u001b[32;43m10\u001b[39;49m\u001b[43m,\u001b[49m\u001b[32;43m0.5\u001b[39;49m\u001b[43m)\u001b[49m)\n\u001b[32m      2\u001b[39m \u001b[38;5;28mprint\u001b[39m(x2)\n",
      "\u001b[31mTypeError\u001b[39m: 'float' object cannot be interpreted as an integer"
     ]
    }
   ],
   "source": [
    "x2=list(range(1,10,0.5))\n",
    "print(x2)"
   ]
  },
  {
   "cell_type": "code",
   "execution_count": 18,
   "id": "55e04026-4785-403a-a00f-ab1bb8809ea0",
   "metadata": {},
   "outputs": [
    {
     "name": "stdout",
     "output_type": "stream",
     "text": [
      "[0 1 2 3 4 5 6 7 8 9]\n"
     ]
    }
   ],
   "source": [
    "x3=np.arange(10)\n",
    "print(x3)"
   ]
  },
  {
   "cell_type": "code",
   "execution_count": 19,
   "id": "f38275c1-97d5-4620-9de7-3c0d335ab2f3",
   "metadata": {},
   "outputs": [
    {
     "name": "stdout",
     "output_type": "stream",
     "text": [
      "[10 11 12 13 14 15 16 17 18 19]\n"
     ]
    }
   ],
   "source": [
    "x4=np.arange(10,20)\n",
    "print(x4)"
   ]
  },
  {
   "cell_type": "code",
   "execution_count": 20,
   "id": "318baf22-bfae-45bc-8310-da04b20ee976",
   "metadata": {},
   "outputs": [
    {
     "name": "stdout",
     "output_type": "stream",
     "text": [
      "[ 1.   1.5  2.   2.5  3.   3.5  4.   4.5  5.   5.5  6.   6.5  7.   7.5\n",
      "  8.   8.5  9.   9.5 10.  10.5 11.  11.5 12.  12.5 13.  13.5 14.  14.5\n",
      " 15.  15.5 16.  16.5 17.  17.5 18.  18.5 19.  19.5]\n"
     ]
    }
   ],
   "source": [
    "x5=np.arange(1,20,0.5)\n",
    "print(x5)"
   ]
  },
  {
   "cell_type": "code",
   "execution_count": 21,
   "id": "75606d82-f27a-4095-bedb-37edd42b06e1",
   "metadata": {},
   "outputs": [
    {
     "name": "stdout",
     "output_type": "stream",
     "text": [
      "[1]\n"
     ]
    }
   ],
   "source": [
    "x6=np.arange(1,10,10,dtype=int)\n",
    "print(x6)"
   ]
  },
  {
   "cell_type": "markdown",
   "id": "ed60d1e2-274b-49d1-acda-dcf74dca90d7",
   "metadata": {},
   "source": [
    "# arange belongs to numpy library which is used to generate numbers like int or float or etc"
   ]
  },
  {
   "cell_type": "code",
   "execution_count": 22,
   "id": "7f397b2f-ffad-4e58-8d8a-3deb311e26d6",
   "metadata": {},
   "outputs": [
    {
     "name": "stdout",
     "output_type": "stream",
     "text": [
      "[1 1 2 2 3 3 4 4 5 6]\n"
     ]
    }
   ],
   "source": [
    "y=np.linspace(1,6,10,dtype=int)\n",
    "print(y)"
   ]
  },
  {
   "cell_type": "markdown",
   "id": "74c18931-d5c2-431e-9663-c52b76e43318",
   "metadata": {},
   "source": [
    "## creating 2d arrays using nested list"
   ]
  },
  {
   "cell_type": "code",
   "execution_count": 23,
   "id": "528349be-8c98-420c-8282-3e86258d9f87",
   "metadata": {},
   "outputs": [
    {
     "name": "stdout",
     "output_type": "stream",
     "text": [
      "[[10 20 30]\n",
      " [40 50 60]]\n"
     ]
    }
   ],
   "source": [
    "x=[[10,20,30],[40,50,60]]\n",
    "arr1=np.array(x)\n",
    "print(arr1)"
   ]
  },
  {
   "cell_type": "code",
   "execution_count": 26,
   "id": "067bbff4-2421-4c64-92d2-d1f222f709d6",
   "metadata": {},
   "outputs": [
    {
     "name": "stdout",
     "output_type": "stream",
     "text": [
      "2\n"
     ]
    }
   ],
   "source": [
    "print(len(arr1))"
   ]
  },
  {
   "cell_type": "code",
   "execution_count": 27,
   "id": "c0a97c6e-15c1-461b-9bf0-4337b0129ecb",
   "metadata": {},
   "outputs": [
    {
     "name": "stdout",
     "output_type": "stream",
     "text": [
      "2\n"
     ]
    }
   ],
   "source": [
    "print(arr1.ndim)"
   ]
  },
  {
   "cell_type": "code",
   "execution_count": 28,
   "id": "5cb1b9a8-d4d0-4b48-a65b-d8cce9ab1254",
   "metadata": {},
   "outputs": [
    {
     "name": "stdout",
     "output_type": "stream",
     "text": [
      "(2, 3)\n"
     ]
    }
   ],
   "source": [
    "print(arr1.shape)"
   ]
  },
  {
   "cell_type": "code",
   "execution_count": 29,
   "id": "96523f04-6ae9-49d0-abca-006456f8540f",
   "metadata": {},
   "outputs": [
    {
     "name": "stdout",
     "output_type": "stream",
     "text": [
      "6\n"
     ]
    }
   ],
   "source": [
    "print(arr1.size)"
   ]
  },
  {
   "cell_type": "code",
   "execution_count": 30,
   "id": "d7b25cc6-8012-4c0f-9e19-c4039d2e65b0",
   "metadata": {},
   "outputs": [
    {
     "name": "stdout",
     "output_type": "stream",
     "text": [
      "[[0 1 2]\n",
      " [3 4 5]\n",
      " [6 7 8]]\n"
     ]
    }
   ],
   "source": [
    "arr7=np.arange(9).reshape(3,3)\n",
    "print(arr7)"
   ]
  },
  {
   "cell_type": "code",
   "execution_count": 32,
   "id": "fdd312e8-4df3-43dc-902f-cebb5bb40708",
   "metadata": {},
   "outputs": [
    {
     "name": "stdout",
     "output_type": "stream",
     "text": [
      "[[ 1  2  3  4]\n",
      " [ 5  6  7  8]\n",
      " [ 9 10 11 12]]\n"
     ]
    }
   ],
   "source": [
    "arr8=np.arange(1,13).reshape(3,4)\n",
    "print(arr8)"
   ]
  },
  {
   "cell_type": "code",
   "execution_count": 33,
   "id": "3463baa3-1f01-45d6-8a44-e68ff855a953",
   "metadata": {},
   "outputs": [
    {
     "name": "stdout",
     "output_type": "stream",
     "text": [
      "[[ 1  2  3]\n",
      " [ 4  5  6]\n",
      " [ 7  8  9]\n",
      " [10 11 12]]\n"
     ]
    }
   ],
   "source": [
    "arr9=np.arange(1,13).reshape(4,3)\n",
    "print(arr9)"
   ]
  },
  {
   "cell_type": "code",
   "execution_count": 34,
   "id": "d08905f4-be7a-4d0c-a915-b905aeff67fb",
   "metadata": {},
   "outputs": [
    {
     "name": "stdout",
     "output_type": "stream",
     "text": [
      "[[10 20 30 40]]\n"
     ]
    }
   ],
   "source": [
    "a=[10,20,30,40]\n",
    "arr9=np.array(a,ndmin=2)\n",
    "print(arr9)"
   ]
  },
  {
   "cell_type": "code",
   "execution_count": 39,
   "id": "210aa97f-0e9e-4c37-807f-306bcb401ca3",
   "metadata": {},
   "outputs": [
    {
     "name": "stdout",
     "output_type": "stream",
     "text": [
      "[[10 20]\n",
      " [30 40]]\n"
     ]
    }
   ],
   "source": [
    "\n",
    "arr10=np.array([[10,20],[30,40]])\n",
    "print(arr10)"
   ]
  },
  {
   "cell_type": "code",
   "execution_count": 42,
   "id": "d98f0a30-1e1a-41a2-aa26-531a169c4038",
   "metadata": {},
   "outputs": [
    {
     "name": "stdout",
     "output_type": "stream",
     "text": [
      "[10 20 30 40]\n"
     ]
    }
   ],
   "source": [
    "print(arr10.flatten())\n"
   ]
  },
  {
   "cell_type": "code",
   "execution_count": 43,
   "id": "9956266f-8d23-4262-a2df-7aa5d61b86a4",
   "metadata": {},
   "outputs": [],
   "source": [
    "## arthmetic expressions"
   ]
  },
  {
   "cell_type": "code",
   "execution_count": 44,
   "id": "a5fa7e97-b04b-4ad8-a591-b3ebb48c8365",
   "metadata": {},
   "outputs": [
    {
     "name": "stdout",
     "output_type": "stream",
     "text": [
      "[[1 2]\n",
      " [3 4]]\n",
      "[[1 2]\n",
      " [3 4]]\n"
     ]
    }
   ],
   "source": [
    "x1=np.arange(1,5).reshape(2,2)\n",
    "x2=np.arange(1,5).reshape(2,2)\n",
    "print(x1)\n",
    "print(x2)"
   ]
  },
  {
   "cell_type": "code",
   "execution_count": 45,
   "id": "d48ff462-b253-4d37-970f-af4e58c49336",
   "metadata": {},
   "outputs": [
    {
     "name": "stdout",
     "output_type": "stream",
     "text": [
      "15\n",
      "[10, 5]\n"
     ]
    }
   ],
   "source": [
    "print(10+5)\n",
    "print([10]+[5])"
   ]
  },
  {
   "cell_type": "code",
   "execution_count": 46,
   "id": "5d4bc54d-f3ea-4acd-91c7-27f04d02333a",
   "metadata": {},
   "outputs": [
    {
     "name": "stdout",
     "output_type": "stream",
     "text": [
      "[[6 7]\n",
      " [8 9]]\n"
     ]
    }
   ],
   "source": [
    "print(x1+5)"
   ]
  },
  {
   "cell_type": "code",
   "execution_count": 47,
   "id": "792fb48f-df2e-4ce2-8bf7-fceb5c68af7d",
   "metadata": {},
   "outputs": [
    {
     "name": "stdout",
     "output_type": "stream",
     "text": [
      "[[2 4]\n",
      " [6 8]]\n"
     ]
    }
   ],
   "source": [
    "print(x1+x2)"
   ]
  },
  {
   "cell_type": "code",
   "execution_count": 48,
   "id": "514aa149-f8ff-4feb-b13c-5967fba6cd88",
   "metadata": {},
   "outputs": [],
   "source": [
    "##accessing the elemnts"
   ]
  },
  {
   "cell_type": "code",
   "execution_count": 49,
   "id": "7a236520-1fee-4d40-a21c-7ccec0360930",
   "metadata": {},
   "outputs": [
    {
     "name": "stdout",
     "output_type": "stream",
     "text": [
      "[[ 0  1  2  3]\n",
      " [ 4  5  6  7]\n",
      " [ 8  9 10 11]\n",
      " [12 13 14 15]\n",
      " [16 17 18 19]]\n"
     ]
    }
   ],
   "source": [
    "arrl1=np.arange(20).reshape(5,4)\n",
    "print(arrl1)"
   ]
  },
  {
   "cell_type": "code",
   "execution_count": 50,
   "id": "73d38e48-0cdd-416c-8f8c-bea10412a65d",
   "metadata": {},
   "outputs": [
    {
     "name": "stdout",
     "output_type": "stream",
     "text": [
      "[0 1 2 3]\n"
     ]
    }
   ],
   "source": [
    "print(arrl1[0])"
   ]
  },
  {
   "cell_type": "code",
   "execution_count": 51,
   "id": "f7aa5d17-5043-447f-8416-5120e38ed434",
   "metadata": {},
   "outputs": [
    {
     "name": "stdout",
     "output_type": "stream",
     "text": [
      "[16 17 18 19]\n"
     ]
    }
   ],
   "source": [
    "print(arrl1[-1])"
   ]
  },
  {
   "cell_type": "code",
   "execution_count": 52,
   "id": "10747c9d-294d-46ec-b694-0e592295ce32",
   "metadata": {},
   "outputs": [
    {
     "name": "stdout",
     "output_type": "stream",
     "text": [
      "[[ 0  1]\n",
      " [ 4  5]\n",
      " [ 8  9]\n",
      " [12 13]\n",
      " [16 17]]\n"
     ]
    }
   ],
   "source": [
    "print(arrl1[:,:2])"
   ]
  },
  {
   "cell_type": "code",
   "execution_count": 53,
   "id": "33d771bd-5bf3-4652-a08c-c99efe81918c",
   "metadata": {},
   "outputs": [
    {
     "name": "stdout",
     "output_type": "stream",
     "text": [
      "[0 1 2 3]\n"
     ]
    }
   ],
   "source": [
    "print(arrl1[0])"
   ]
  },
  {
   "cell_type": "code",
   "execution_count": 54,
   "id": "5535e617-4937-4f53-a17d-e898075d16ff",
   "metadata": {},
   "outputs": [
    {
     "name": "stdout",
     "output_type": "stream",
     "text": [
      "[0 1 2 3]\n"
     ]
    }
   ],
   "source": [
    "print(arrl1[0])"
   ]
  },
  {
   "cell_type": "code",
   "execution_count": 55,
   "id": "61336f79-2b0f-4eb3-a5a5-a425b7982fb4",
   "metadata": {},
   "outputs": [
    {
     "name": "stdout",
     "output_type": "stream",
     "text": [
      "[16 17 18 19]\n"
     ]
    }
   ],
   "source": [
    "print(arrl1[-1])"
   ]
  },
  {
   "cell_type": "code",
   "execution_count": 56,
   "id": "4bf69c32-3d8e-4084-9882-0c1a474b0ae4",
   "metadata": {},
   "outputs": [
    {
     "name": "stdout",
     "output_type": "stream",
     "text": [
      "[12 13 14 15]\n"
     ]
    }
   ],
   "source": [
    "print(arrl1[-2])"
   ]
  },
  {
   "cell_type": "code",
   "execution_count": 57,
   "id": "0c982b02-ee4a-4d88-a235-7f7fdc0643e9",
   "metadata": {},
   "outputs": [
    {
     "name": "stdout",
     "output_type": "stream",
     "text": [
      "[[0 1 2 3]\n",
      " [4 5 6 7]]\n"
     ]
    }
   ],
   "source": [
    "print(arrl1[0:2])"
   ]
  },
  {
   "cell_type": "code",
   "execution_count": 58,
   "id": "b6241b9c-f3cc-4284-af6a-a41b5712d7bd",
   "metadata": {},
   "outputs": [
    {
     "name": "stdout",
     "output_type": "stream",
     "text": [
      "[[16 17 18 19]\n",
      " [12 13 14 15]\n",
      " [ 8  9 10 11]\n",
      " [ 4  5  6  7]\n",
      " [ 0  1  2  3]]\n"
     ]
    }
   ],
   "source": [
    "print(arrl1[::-1])"
   ]
  },
  {
   "cell_type": "code",
   "execution_count": 59,
   "id": "fbabe198-de5a-4e8d-9062-de047c3a9623",
   "metadata": {},
   "outputs": [
    {
     "name": "stdout",
     "output_type": "stream",
     "text": [
      "[ 0  4  8 12 16]\n"
     ]
    }
   ],
   "source": [
    "print(arrl1[:,0])"
   ]
  },
  {
   "cell_type": "code",
   "execution_count": 60,
   "id": "82a140e9-db29-43a3-b4f9-590f001ae66b",
   "metadata": {},
   "outputs": [
    {
     "name": "stdout",
     "output_type": "stream",
     "text": [
      "[[ 0]\n",
      " [ 4]\n",
      " [ 8]\n",
      " [12]\n",
      " [16]]\n"
     ]
    }
   ],
   "source": [
    "print(arrl1[:,0:1])"
   ]
  },
  {
   "cell_type": "code",
   "execution_count": 61,
   "id": "2c2bcc7e-0dd3-402d-aa5c-a837f3421828",
   "metadata": {},
   "outputs": [
    {
     "name": "stdout",
     "output_type": "stream",
     "text": [
      "[[19 18 17 16]\n",
      " [15 14 13 12]\n",
      " [11 10  9  8]\n",
      " [ 7  6  5  4]\n",
      " [ 3  2  1  0]]\n"
     ]
    }
   ],
   "source": [
    "print(arrl1[::-1,::-1])"
   ]
  },
  {
   "cell_type": "code",
   "execution_count": 62,
   "id": "929b307e-d3e3-4ec6-baf3-e2e3a4da2984",
   "metadata": {},
   "outputs": [
    {
     "name": "stdout",
     "output_type": "stream",
     "text": [
      "[ 1  5  9 13 17]\n"
     ]
    }
   ],
   "source": [
    "print(arrl1[:,1])"
   ]
  },
  {
   "cell_type": "code",
   "execution_count": 63,
   "id": "6946e60a-9b4c-4977-b199-c1a3c2c31121",
   "metadata": {},
   "outputs": [
    {
     "name": "stdout",
     "output_type": "stream",
     "text": [
      "5\n"
     ]
    }
   ],
   "source": [
    "print(arrl1[1,1])"
   ]
  },
  {
   "cell_type": "code",
   "execution_count": 64,
   "id": "2c4a85b8-7968-4df5-ae58-54eb55e2bdf5",
   "metadata": {},
   "outputs": [
    {
     "name": "stdout",
     "output_type": "stream",
     "text": [
      "[ 9 10 11]\n"
     ]
    }
   ],
   "source": [
    "print(arrl1[2,1:])"
   ]
  },
  {
   "cell_type": "markdown",
   "id": "6d215d48-8838-4883-a5ca-6f9e600d1149",
   "metadata": {},
   "source": [
    "# matrices "
   ]
  },
  {
   "cell_type": "code",
   "execution_count": 65,
   "id": "8c4bad24-abb6-4413-8f44-71b3f39791a1",
   "metadata": {},
   "outputs": [
    {
     "name": "stdout",
     "output_type": "stream",
     "text": [
      "[[1 2]\n",
      " [3 4]]\n",
      "[[1 2]\n",
      " [3 4]]\n"
     ]
    }
   ],
   "source": [
    "b1=np.arange(1,5).reshape(2,2)\n",
    "b2=np.arange(1,5).reshape(2,2)\n",
    "print(b1)\n",
    "print(b2)"
   ]
  },
  {
   "cell_type": "code",
   "execution_count": 66,
   "id": "2916f12c-ebe8-479d-b25a-e425f4be499f",
   "metadata": {},
   "outputs": [
    {
     "name": "stdout",
     "output_type": "stream",
     "text": [
      "[[ 1  4]\n",
      " [ 9 16]]\n"
     ]
    }
   ],
   "source": [
    "print(b1*b2)"
   ]
  },
  {
   "cell_type": "code",
   "execution_count": 84,
   "id": "ece33ee7-9728-48f9-8eaf-caaa2046574e",
   "metadata": {},
   "outputs": [
    {
     "name": "stdout",
     "output_type": "stream",
     "text": [
      "[[ 7 10]\n",
      " [15 22]]\n"
     ]
    }
   ],
   "source": [
    "res=np.dot(b1,b2)\n",
    "print(res)"
   ]
  },
  {
   "cell_type": "code",
   "execution_count": 85,
   "id": "74e2ff11-9238-4a1f-b0d0-cf4d098ba64d",
   "metadata": {},
   "outputs": [
    {
     "name": "stdout",
     "output_type": "stream",
     "text": [
      "[5]\n"
     ]
    }
   ],
   "source": [
    "b3=np.array([1,2])\n",
    "b4=np.array([[1],[2]])\n",
    "res1=np.dot(b3,b4)\n",
    "print(res1)"
   ]
  },
  {
   "cell_type": "markdown",
   "id": "d14c37ea-68db-4174-85f0-82136dcb0801",
   "metadata": {},
   "source": [
    "# matrix multiplication rule: number of column in first matrix is equal to number of rows in second matrix"
   ]
  },
  {
   "cell_type": "code",
   "execution_count": 86,
   "id": "bf417237-6a31-47c0-abfa-8d1ede04ac96",
   "metadata": {},
   "outputs": [
    {
     "ename": "ValueError",
     "evalue": "shapes (2,1) and (2,1) not aligned: 1 (dim 1) != 2 (dim 0)",
     "output_type": "error",
     "traceback": [
      "\u001b[31m---------------------------------------------------------------------------\u001b[39m",
      "\u001b[31mValueError\u001b[39m                                Traceback (most recent call last)",
      "\u001b[36mCell\u001b[39m\u001b[36m \u001b[39m\u001b[32mIn[86]\u001b[39m\u001b[32m, line 3\u001b[39m\n\u001b[32m      1\u001b[39m b3=np.array([[\u001b[32m1\u001b[39m],[\u001b[32m2\u001b[39m]])\n\u001b[32m      2\u001b[39m b4=np.array([[\u001b[32m1\u001b[39m],[\u001b[32m2\u001b[39m]])\n\u001b[32m----> \u001b[39m\u001b[32m3\u001b[39m res1=\u001b[43mnp\u001b[49m\u001b[43m.\u001b[49m\u001b[43mdot\u001b[49m\u001b[43m(\u001b[49m\u001b[43mb3\u001b[49m\u001b[43m,\u001b[49m\u001b[43mb4\u001b[49m\u001b[43m)\u001b[49m\n\u001b[32m      4\u001b[39m \u001b[38;5;28mprint\u001b[39m(res1)\n",
      "\u001b[31mValueError\u001b[39m: shapes (2,1) and (2,1) not aligned: 1 (dim 1) != 2 (dim 0)"
     ]
    }
   ],
   "source": [
    "b3=np.array([[1],[2]])\n",
    "b4=np.array([[1],[2]])\n",
    "res1=np.dot(b3,b4)\n",
    "print(res1)"
   ]
  },
  {
   "cell_type": "markdown",
   "id": "a105759c-de19-49b1-b294-18a62cf6fa0b",
   "metadata": {},
   "source": [
    "## bultin functions to create matrices"
   ]
  },
  {
   "cell_type": "code",
   "execution_count": 87,
   "id": "550792f4-151f-4275-bc3c-260b495b5a5f",
   "metadata": {},
   "outputs": [
    {
     "name": "stdout",
     "output_type": "stream",
     "text": [
      "[[1 2]\n",
      " [3 4]]\n"
     ]
    }
   ],
   "source": [
    "n1=np.arange(1,5).reshape(2,2)\n",
    "print(n1)"
   ]
  },
  {
   "cell_type": "code",
   "execution_count": 90,
   "id": "99a4aac2-c5f5-488f-b8f2-aee491232eff",
   "metadata": {},
   "outputs": [
    {
     "name": "stdout",
     "output_type": "stream",
     "text": [
      "[[0. 0.]\n",
      " [0. 0.]]\n"
     ]
    }
   ],
   "source": [
    "n2=np.zeros((2,2))\n",
    "print(n2)"
   ]
  },
  {
   "cell_type": "code",
   "execution_count": 73,
   "id": "459ef704-e62e-481a-93e5-e35d03b06e5a",
   "metadata": {},
   "outputs": [
    {
     "name": "stdout",
     "output_type": "stream",
     "text": [
      "[[1 1]\n",
      " [1 1]]\n"
     ]
    }
   ],
   "source": [
    "n3=np.ones((2,2),dtype=int)\n",
    "print(n3)"
   ]
  },
  {
   "cell_type": "code",
   "execution_count": 74,
   "id": "feb0c875-2e3b-41ee-9533-b307f7610e23",
   "metadata": {},
   "outputs": [
    {
     "name": "stdout",
     "output_type": "stream",
     "text": [
      "[[5 5]\n",
      " [5 5]]\n"
     ]
    }
   ],
   "source": [
    "n4=np.full((2,2),5,dtype=int)\n",
    "print(n4)"
   ]
  },
  {
   "cell_type": "code",
   "execution_count": 92,
   "id": "0634bac4-c30b-41f5-9670-d0e624e05396",
   "metadata": {},
   "outputs": [
    {
     "name": "stdout",
     "output_type": "stream",
     "text": [
      "[[4 0 0]\n",
      " [0 4 0]\n",
      " [0 0 4]]\n"
     ]
    }
   ],
   "source": [
    "n5=np.eye(3,dtype=int)*4\n",
    "print(n5)"
   ]
  },
  {
   "cell_type": "markdown",
   "id": "42e0ce6c-2469-418a-9f08-ea2db55a1e4d",
   "metadata": {},
   "source": [
    "## aggregate functions"
   ]
  },
  {
   "cell_type": "code",
   "execution_count": 95,
   "id": "739f5a15-1ec0-4fa4-80c0-4c988817a000",
   "metadata": {},
   "outputs": [
    {
     "name": "stdout",
     "output_type": "stream",
     "text": [
      "[45 48 10 15 37 46  9 29 36  8]\n"
     ]
    }
   ],
   "source": [
    "n6=np.random.randint(1,60,10)\n",
    "print(n6)"
   ]
  },
  {
   "cell_type": "code",
   "execution_count": 77,
   "id": "502ac68c-3cde-4f78-b1af-1309af12f386",
   "metadata": {},
   "outputs": [
    {
     "name": "stdout",
     "output_type": "stream",
     "text": [
      "52\n",
      "22\n",
      "2\n",
      "1\n",
      "32.2\n",
      "33.0\n"
     ]
    }
   ],
   "source": [
    "print(np.max(n6))\n",
    "print(np.min(n6))\n",
    "print(np.argmax(n6))\n",
    "print(np.argmin(n6))\n",
    "print(np.mean(n6))\n",
    "# print(np.mode(n6))\n",
    "print(np.median(n6))"
   ]
  },
  {
   "cell_type": "markdown",
   "id": "5f4bcaf7-26db-4182-8bb8-72ab9c7c9a80",
   "metadata": {},
   "source": [
    "## joining of matrices"
   ]
  },
  {
   "cell_type": "code",
   "execution_count": 78,
   "id": "c4436e88-b9f6-4e1d-8c34-6bbefa54eb87",
   "metadata": {},
   "outputs": [
    {
     "name": "stdout",
     "output_type": "stream",
     "text": [
      "[[1 2 3]\n",
      " [4 5 6]\n",
      " [7 8 9]]\n",
      "[[11 12 13]\n",
      " [14 15 16]\n",
      " [17 18 19]]\n"
     ]
    }
   ],
   "source": [
    "m1=np.arange(1,10).reshape(3,3)\n",
    "m2=np.arange(11,20).reshape(3,3)\n",
    "print(m1)\n",
    "print(m2)"
   ]
  },
  {
   "cell_type": "code",
   "execution_count": 79,
   "id": "432ad71a-67d3-4575-a699-147fc1282174",
   "metadata": {},
   "outputs": [
    {
     "name": "stdout",
     "output_type": "stream",
     "text": [
      "[[ 1  2  3]\n",
      " [ 4  5  6]\n",
      " [ 7  8  9]\n",
      " [11 12 13]\n",
      " [14 15 16]\n",
      " [17 18 19]]\n"
     ]
    }
   ],
   "source": [
    "print(np.concatenate((m1,m2),axis=0))"
   ]
  },
  {
   "cell_type": "code",
   "execution_count": 80,
   "id": "fbea1d4e-40db-429d-bf43-6b5cbcb481ac",
   "metadata": {},
   "outputs": [
    {
     "name": "stdout",
     "output_type": "stream",
     "text": [
      "[[ 1  2  3 11 12 13]\n",
      " [ 4  5  6 14 15 16]\n",
      " [ 7  8  9 17 18 19]]\n"
     ]
    }
   ],
   "source": [
    "print(np.concatenate((m1,m2),axis=1))"
   ]
  },
  {
   "cell_type": "code",
   "execution_count": 81,
   "id": "27302d88-a709-4d19-9d40-43a27f666424",
   "metadata": {},
   "outputs": [
    {
     "name": "stdout",
     "output_type": "stream",
     "text": [
      "[[ 1  2  3]\n",
      " [ 4  5  6]\n",
      " [ 7  8  9]\n",
      " [11 12 13]\n",
      " [14 15 16]\n",
      " [17 18 19]]\n"
     ]
    }
   ],
   "source": [
    "print(np.vstack((m1,m2)))"
   ]
  },
  {
   "cell_type": "code",
   "execution_count": 82,
   "id": "6262ac7e-f259-4ed1-99c1-159bb37f71b8",
   "metadata": {},
   "outputs": [
    {
     "name": "stdout",
     "output_type": "stream",
     "text": [
      "[[ 1  2  3 11 12 13]\n",
      " [ 4  5  6 14 15 16]\n",
      " [ 7  8  9 17 18 19]]\n"
     ]
    }
   ],
   "source": [
    "print(np.hstack((m1,m2)))"
   ]
  },
  {
   "cell_type": "code",
   "execution_count": 83,
   "id": "a908d5ec-d64f-4a6c-aa8a-7fe24e2ee22b",
   "metadata": {},
   "outputs": [
    {
     "name": "stdout",
     "output_type": "stream",
     "text": [
      "[1 2 3 4]\n"
     ]
    }
   ],
   "source": [
    "c1=np.array([1,2])\n",
    "c2=np.array([3,4])\n",
    "print(np.concatenate((c1,c2),axis=0))"
   ]
  }
 ],
 "metadata": {
  "kernelspec": {
   "display_name": "Python 3 (ipykernel)",
   "language": "python",
   "name": "python3"
  },
  "language_info": {
   "codemirror_mode": {
    "name": "ipython",
    "version": 3
   },
   "file_extension": ".py",
   "mimetype": "text/x-python",
   "name": "python",
   "nbconvert_exporter": "python",
   "pygments_lexer": "ipython3",
   "version": "3.13.5"
  }
 },
 "nbformat": 4,
 "nbformat_minor": 5
}
